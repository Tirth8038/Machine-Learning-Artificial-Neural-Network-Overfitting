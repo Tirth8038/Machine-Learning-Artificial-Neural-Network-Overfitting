{
  "nbformat": 4,
  "nbformat_minor": 0,
  "metadata": {
    "colab": {
      "name": "ANNOverfitting.ipynb",
      "provenance": [],
      "collapsed_sections": []
    },
    "kernelspec": {
      "name": "python3",
      "display_name": "Python 3"
    }
  },
  "cells": [
    {
      "cell_type": "code",
      "metadata": {
        "colab": {
          "base_uri": "https://localhost:8080/"
        },
        "id": "-3y2o24HCBin",
        "outputId": "dfb00aa4-e786-43a3-fbd6-3b6fa854522e"
      },
      "source": [
        "#Importing Necessary Packages\n",
        "import tensorflow as tf\n",
        "\n",
        "from tensorflow.keras import layers\n",
        "from tensorflow.keras import regularizers\n",
        "\n",
        "print(tf.__version__)"
      ],
      "execution_count": null,
      "outputs": [
        {
          "output_type": "stream",
          "text": [
            "2.4.1\n"
          ],
          "name": "stdout"
        }
      ]
    },
    {
      "cell_type": "code",
      "metadata": {
        "colab": {
          "base_uri": "https://localhost:8080/"
        },
        "id": "PLiDxXCoEAF4",
        "outputId": "cd11e480-5c7b-4527-daf0-b0103ed74372"
      },
      "source": [
        "!pip install -q git+https://github.com/tensorflow/docs\n",
        "\n",
        "import tensorflow_docs as tfdocs\n",
        "import tensorflow_docs.modeling\n",
        "import tensorflow_docs.plots"
      ],
      "execution_count": null,
      "outputs": [
        {
          "output_type": "stream",
          "text": [
            "\u001b[?25l\r\u001b[K     |▎                               | 10kB 18.7MB/s eta 0:00:01\r\u001b[K     |▋                               | 20kB 14.8MB/s eta 0:00:01\r\u001b[K     |█                               | 30kB 8.3MB/s eta 0:00:01\r\u001b[K     |█▎                              | 40kB 7.6MB/s eta 0:00:01\r\u001b[K     |█▋                              | 51kB 4.5MB/s eta 0:00:01\r\u001b[K     |██                              | 61kB 5.0MB/s eta 0:00:01\r\u001b[K     |██▎                             | 71kB 5.3MB/s eta 0:00:01\r\u001b[K     |██▋                             | 81kB 5.2MB/s eta 0:00:01\r\u001b[K     |██▉                             | 92kB 5.5MB/s eta 0:00:01\r\u001b[K     |███▏                            | 102kB 4.4MB/s eta 0:00:01\r\u001b[K     |███▌                            | 112kB 4.4MB/s eta 0:00:01\r\u001b[K     |███▉                            | 122kB 4.4MB/s eta 0:00:01\r\u001b[K     |████▏                           | 133kB 4.4MB/s eta 0:00:01\r\u001b[K     |████▌                           | 143kB 4.4MB/s eta 0:00:01\r\u001b[K     |████▉                           | 153kB 4.4MB/s eta 0:00:01\r\u001b[K     |█████▏                          | 163kB 4.4MB/s eta 0:00:01\r\u001b[K     |█████▍                          | 174kB 4.4MB/s eta 0:00:01\r\u001b[K     |█████▊                          | 184kB 4.4MB/s eta 0:00:01\r\u001b[K     |██████                          | 194kB 4.4MB/s eta 0:00:01\r\u001b[K     |██████▍                         | 204kB 4.4MB/s eta 0:00:01\r\u001b[K     |██████▊                         | 215kB 4.4MB/s eta 0:00:01\r\u001b[K     |███████                         | 225kB 4.4MB/s eta 0:00:01\r\u001b[K     |███████▍                        | 235kB 4.4MB/s eta 0:00:01\r\u001b[K     |███████▊                        | 245kB 4.4MB/s eta 0:00:01\r\u001b[K     |████████                        | 256kB 4.4MB/s eta 0:00:01\r\u001b[K     |████████▎                       | 266kB 4.4MB/s eta 0:00:01\r\u001b[K     |████████▋                       | 276kB 4.4MB/s eta 0:00:01\r\u001b[K     |█████████                       | 286kB 4.4MB/s eta 0:00:01\r\u001b[K     |█████████▎                      | 296kB 4.4MB/s eta 0:00:01\r\u001b[K     |█████████▋                      | 307kB 4.4MB/s eta 0:00:01\r\u001b[K     |██████████                      | 317kB 4.4MB/s eta 0:00:01\r\u001b[K     |██████████▎                     | 327kB 4.4MB/s eta 0:00:01\r\u001b[K     |██████████▋                     | 337kB 4.4MB/s eta 0:00:01\r\u001b[K     |██████████▉                     | 348kB 4.4MB/s eta 0:00:01\r\u001b[K     |███████████▏                    | 358kB 4.4MB/s eta 0:00:01\r\u001b[K     |███████████▌                    | 368kB 4.4MB/s eta 0:00:01\r\u001b[K     |███████████▉                    | 378kB 4.4MB/s eta 0:00:01\r\u001b[K     |████████████▏                   | 389kB 4.4MB/s eta 0:00:01\r\u001b[K     |████████████▌                   | 399kB 4.4MB/s eta 0:00:01\r\u001b[K     |████████████▉                   | 409kB 4.4MB/s eta 0:00:01\r\u001b[K     |█████████████▏                  | 419kB 4.4MB/s eta 0:00:01\r\u001b[K     |█████████████▌                  | 430kB 4.4MB/s eta 0:00:01\r\u001b[K     |█████████████▊                  | 440kB 4.4MB/s eta 0:00:01\r\u001b[K     |██████████████                  | 450kB 4.4MB/s eta 0:00:01\r\u001b[K     |██████████████▍                 | 460kB 4.4MB/s eta 0:00:01\r\u001b[K     |██████████████▊                 | 471kB 4.4MB/s eta 0:00:01\r\u001b[K     |███████████████                 | 481kB 4.4MB/s eta 0:00:01\r\u001b[K     |███████████████▍                | 491kB 4.4MB/s eta 0:00:01\r\u001b[K     |███████████████▊                | 501kB 4.4MB/s eta 0:00:01\r\u001b[K     |████████████████                | 512kB 4.4MB/s eta 0:00:01\r\u001b[K     |████████████████▎               | 522kB 4.4MB/s eta 0:00:01\r\u001b[K     |████████████████▋               | 532kB 4.4MB/s eta 0:00:01\r\u001b[K     |█████████████████               | 542kB 4.4MB/s eta 0:00:01\r\u001b[K     |█████████████████▎              | 552kB 4.4MB/s eta 0:00:01\r\u001b[K     |█████████████████▋              | 563kB 4.4MB/s eta 0:00:01\r\u001b[K     |██████████████████              | 573kB 4.4MB/s eta 0:00:01\r\u001b[K     |██████████████████▎             | 583kB 4.4MB/s eta 0:00:01\r\u001b[K     |██████████████████▋             | 593kB 4.4MB/s eta 0:00:01\r\u001b[K     |███████████████████             | 604kB 4.4MB/s eta 0:00:01\r\u001b[K     |███████████████████▏            | 614kB 4.4MB/s eta 0:00:01\r\u001b[K     |███████████████████▌            | 624kB 4.4MB/s eta 0:00:01\r\u001b[K     |███████████████████▉            | 634kB 4.4MB/s eta 0:00:01\r\u001b[K     |████████████████████▏           | 645kB 4.4MB/s eta 0:00:01\r\u001b[K     |████████████████████▌           | 655kB 4.4MB/s eta 0:00:01\r\u001b[K     |████████████████████▉           | 665kB 4.4MB/s eta 0:00:01\r\u001b[K     |█████████████████████▏          | 675kB 4.4MB/s eta 0:00:01\r\u001b[K     |█████████████████████▌          | 686kB 4.4MB/s eta 0:00:01\r\u001b[K     |█████████████████████▊          | 696kB 4.4MB/s eta 0:00:01\r\u001b[K     |██████████████████████          | 706kB 4.4MB/s eta 0:00:01\r\u001b[K     |██████████████████████▍         | 716kB 4.4MB/s eta 0:00:01\r\u001b[K     |██████████████████████▊         | 727kB 4.4MB/s eta 0:00:01\r\u001b[K     |███████████████████████         | 737kB 4.4MB/s eta 0:00:01\r\u001b[K     |███████████████████████▍        | 747kB 4.4MB/s eta 0:00:01\r\u001b[K     |███████████████████████▊        | 757kB 4.4MB/s eta 0:00:01\r\u001b[K     |████████████████████████        | 768kB 4.4MB/s eta 0:00:01\r\u001b[K     |████████████████████████▍       | 778kB 4.4MB/s eta 0:00:01\r\u001b[K     |████████████████████████▋       | 788kB 4.4MB/s eta 0:00:01\r\u001b[K     |█████████████████████████       | 798kB 4.4MB/s eta 0:00:01\r\u001b[K     |█████████████████████████▎      | 808kB 4.4MB/s eta 0:00:01\r\u001b[K     |█████████████████████████▋      | 819kB 4.4MB/s eta 0:00:01\r\u001b[K     |██████████████████████████      | 829kB 4.4MB/s eta 0:00:01\r\u001b[K     |██████████████████████████▎     | 839kB 4.4MB/s eta 0:00:01\r\u001b[K     |██████████████████████████▋     | 849kB 4.4MB/s eta 0:00:01\r\u001b[K     |███████████████████████████     | 860kB 4.4MB/s eta 0:00:01\r\u001b[K     |███████████████████████████▏    | 870kB 4.4MB/s eta 0:00:01\r\u001b[K     |███████████████████████████▌    | 880kB 4.4MB/s eta 0:00:01\r\u001b[K     |███████████████████████████▉    | 890kB 4.4MB/s eta 0:00:01\r\u001b[K     |████████████████████████████▏   | 901kB 4.4MB/s eta 0:00:01\r\u001b[K     |████████████████████████████▌   | 911kB 4.4MB/s eta 0:00:01\r\u001b[K     |████████████████████████████▉   | 921kB 4.4MB/s eta 0:00:01\r\u001b[K     |█████████████████████████████▏  | 931kB 4.4MB/s eta 0:00:01\r\u001b[K     |█████████████████████████████▌  | 942kB 4.4MB/s eta 0:00:01\r\u001b[K     |█████████████████████████████▉  | 952kB 4.4MB/s eta 0:00:01\r\u001b[K     |██████████████████████████████  | 962kB 4.4MB/s eta 0:00:01\r\u001b[K     |██████████████████████████████▍ | 972kB 4.4MB/s eta 0:00:01\r\u001b[K     |██████████████████████████████▊ | 983kB 4.4MB/s eta 0:00:01\r\u001b[K     |███████████████████████████████ | 993kB 4.4MB/s eta 0:00:01\r\u001b[K     |███████████████████████████████▍| 1.0MB 4.4MB/s eta 0:00:01\r\u001b[K     |███████████████████████████████▊| 1.0MB 4.4MB/s eta 0:00:01\r\u001b[K     |████████████████████████████████| 1.0MB 4.4MB/s \n",
            "\u001b[?25h  Building wheel for tensorflow-docs (setup.py) ... \u001b[?25l\u001b[?25hdone\n"
          ],
          "name": "stdout"
        }
      ]
    },
    {
      "cell_type": "code",
      "metadata": {
        "id": "w_qQnc7UEJh6"
      },
      "source": [
        "from  IPython import display\n",
        "from matplotlib import pyplot as plt\n",
        "\n",
        "import numpy as np\n",
        "\n",
        "import pathlib\n",
        "import shutil\n",
        "import tempfile"
      ],
      "execution_count": null,
      "outputs": []
    },
    {
      "cell_type": "code",
      "metadata": {
        "id": "ODZBTHsTEgQJ"
      },
      "source": [
        "logdir = pathlib.Path(tempfile.mkdtemp())/\"tensorboard_logs\"\n",
        "shutil.rmtree(logdir, ignore_errors=True)"
      ],
      "execution_count": null,
      "outputs": []
    },
    {
      "cell_type": "code",
      "metadata": {
        "id": "-Q0BWvcMI2LX",
        "colab": {
          "base_uri": "https://localhost:8080/"
        },
        "outputId": "4a487261-2622-420e-b07e-7f46ab65d592"
      },
      "source": [
        "#Downloading the SUSY dataset from UCI\n",
        "data = tf.keras.utils.get_file('SUSY.csv.gz', 'http://mlphysics.ics.uci.edu/data/susy/SUSY.csv.gz')"
      ],
      "execution_count": null,
      "outputs": [
        {
          "output_type": "stream",
          "text": [
            "Downloading data from http://mlphysics.ics.uci.edu/data/susy/SUSY.csv.gz\n",
            "922378240/922377711 [==============================] - 43s 0us/step\n"
          ],
          "name": "stdout"
        }
      ]
    },
    {
      "cell_type": "code",
      "metadata": {
        "id": "9E6YLr9DXF3l"
      },
      "source": [
        "#Taking Maximum Features=18\n",
        "FEATURES = 18"
      ],
      "execution_count": null,
      "outputs": []
    },
    {
      "cell_type": "code",
      "metadata": {
        "id": "M6Bb_7B3ab2O"
      },
      "source": [
        "#The tf.data.experimental.CsvDataset class can be used to read csv records directly from a gzip file with no intermediate decompression step.\n",
        "\n",
        "susydata = tf.data.experimental.CsvDataset(data,[float(),]*(FEATURES+1), compression_type=\"GZIP\")"
      ],
      "execution_count": null,
      "outputs": []
    },
    {
      "cell_type": "code",
      "metadata": {
        "id": "b6j-13Efag09"
      },
      "source": [
        "#That csv reader class returns a list of scalars for each record. The following function repacks that list of scalars into a (feature_vector, label) pair.\n",
        "\n",
        "def pack_row(*row):\n",
        "  label = row[0]\n",
        "  features = tf.stack(row[1:],1)\n",
        "  return features, label"
      ],
      "execution_count": null,
      "outputs": []
    },
    {
      "cell_type": "code",
      "metadata": {
        "id": "EmMTb7FhakU1"
      },
      "source": [
        "#So instead of repacking each row individually make a new Dataset that takes batches of 10000-examples,\n",
        "#It applies the pack_row function to each batch, and then splits the batches back up into individual records:\n",
        "\n",
        "packed_susy = susydata.batch(10000).map(pack_row).unbatch()"
      ],
      "execution_count": null,
      "outputs": []
    },
    {
      "cell_type": "code",
      "metadata": {
        "colab": {
          "base_uri": "https://localhost:8080/",
          "height": 333
        },
        "id": "DJr-oqSRaozs",
        "outputId": "170d7425-e526-411c-e7c7-f586d3b09ed8"
      },
      "source": [
        "#Looking at the Packed SUSY dataset\n",
        "for features,label in packed_susy.batch(1000).take(1):\n",
        "  print(features[0])\n",
        "  plt.hist(features.numpy().flatten(), bins = 101)"
      ],
      "execution_count": null,
      "outputs": [
        {
          "output_type": "stream",
          "text": [
            "tf.Tensor(\n",
            "[ 0.97286147  0.65385455  1.1762246   1.1571565  -1.7398732  -0.87430906\n",
            "  0.567765   -0.17500004  0.81006074 -0.25255212  1.921887    0.8896374\n",
            "  0.41077185  1.1456208   1.9326321   0.9944641   1.3678155   0.0407145 ], shape=(18,), dtype=float32)\n"
          ],
          "name": "stdout"
        },
        {
          "output_type": "display_data",
          "data": {
            "image/png": "[encoded data removed]",
            "text/plain": [
              "<Figure size 432x288 with 1 Axes>"
            ]
          },
          "metadata": {
            "tags": [],
            "needs_background": "light"
          }
        }
      ]
    },
    {
      "cell_type": "code",
      "metadata": {
        "id": "d2DlXneoas00"
      },
      "source": [
        "#To keep this tutorial relatively short use just the first 1000 samples for validation, and the next 10 000 for training:\n",
        "\n",
        "N_VALIDATION = int(1e3)\n",
        "N_TRAIN = int(1e4)\n",
        "BUFFER_SIZE = int(1e4)\n",
        "BATCH_SIZE = 500\n",
        "STEPS_PER_EPOCH = N_TRAIN//BATCH_SIZE\n"
      ],
      "execution_count": null,
      "outputs": []
    },
    {
      "cell_type": "code",
      "metadata": {
        "id": "FOGCasJ5a4ri"
      },
      "source": [
        "validate_ds = packed_susy.take(N_VALIDATION).cache()\n",
        "train_ds = packed_susy.skip(N_VALIDATION).take(N_TRAIN).cache()\n",
        "\n"
      ],
      "execution_count": null,
      "outputs": []
    },
    {
      "cell_type": "code",
      "metadata": {
        "colab": {
          "base_uri": "https://localhost:8080/"
        },
        "id": "vzXiRw0kbFS5",
        "outputId": "ea96526d-bb4a-4d85-f90b-66448275475f"
      },
      "source": [
        "train_ds"
      ],
      "execution_count": null,
      "outputs": [
        {
          "output_type": "execute_result",
          "data": {
            "text/plain": [
              "<CacheDataset shapes: ((18,), ()), types: (tf.float32, tf.float32)>"
            ]
          },
          "metadata": {
            "tags": []
          },
          "execution_count": 40
        }
      ]
    },
    {
      "cell_type": "code",
      "metadata": {
        "id": "WGtABwNobL9I"
      },
      "source": [
        "#These datasets return individual examples. Use the .batch method to create batches of an appropriate size for training. \n",
        "#Before batching also remember to .shuffle and .repeat the training set.\n",
        "\n",
        "validate_ds = validate_ds.batch(BATCH_SIZE)\n",
        "train_ds = train_ds.shuffle(BUFFER_SIZE).repeat().batch(BATCH_SIZE)\n"
      ],
      "execution_count": null,
      "outputs": []
    },
    {
      "cell_type": "code",
      "metadata": {
        "id": "C1x4ofzxbQPH"
      },
      "source": [
        "#Demonstrate Overfitting\n",
        "lr_schedule = tf.keras.optimizers.schedules.InverseTimeDecay(\n",
        "  0.001,\n",
        "  decay_steps=STEPS_PER_EPOCH*1000,\n",
        "  decay_rate=1,\n",
        "  staircase=False)\n",
        "\n",
        "def get_optimizer():\n",
        "  return tf.keras.optimizers.Adam(lr_schedule)"
      ],
      "execution_count": null,
      "outputs": []
    },
    {
      "cell_type": "code",
      "metadata": {
        "colab": {
          "base_uri": "https://localhost:8080/",
          "height": 388
        },
        "id": "YUV04ghtbcf3",
        "outputId": "85e24b9e-be6f-4685-deee-6221c03291e0"
      },
      "source": [
        "#Plotting the Learning Rate and Epoch\n",
        "step = np.linspace(0,100000)\n",
        "lr = lr_schedule(step)\n",
        "plt.figure(figsize = (8,6))\n",
        "plt.plot(step/STEPS_PER_EPOCH, lr)\n",
        "plt.ylim([0,max(plt.ylim())])\n",
        "plt.xlabel('Epoch')\n",
        "_ = plt.ylabel('Learning Rate')"
      ],
      "execution_count": null,
      "outputs": [
        {
          "output_type": "display_data",
          "data": {
            "image/png": "[encoded data removed]",
            "text/plain": [
              "<Figure size 576x432 with 1 Axes>"
            ]
          },
          "metadata": {
            "tags": [],
            "needs_background": "light"
          }
        }
      ]
    },
    {
      "cell_type": "code",
      "metadata": {
        "id": "MzA-_vWAbwdm"
      },
      "source": [
        "#Use callbacks.TensorBoard to generate TensorBoard logs for the training.\n",
        "\n",
        "def get_callbacks(name):\n",
        "  return [\n",
        "    tfdocs.modeling.EpochDots(),\n",
        "    tf.keras.callbacks.EarlyStopping(monitor='val_binary_crossentropy', patience=200),\n",
        "    tf.keras.callbacks.TensorBoard(logdir/name),\n",
        "  ]"
      ],
      "execution_count": null,
      "outputs": []
    },
    {
      "cell_type": "code",
      "metadata": {
        "id": "Gqk_kxV0b5Sz"
      },
      "source": [
        "def compile_and_fit(model, name, optimizer=None, max_epochs=10000):\n",
        "  if optimizer is None:\n",
        "    optimizer = get_optimizer()\n",
        "  model.compile(optimizer=optimizer,\n",
        "                loss=tf.keras.losses.BinaryCrossentropy(from_logits=True),\n",
        "                metrics=[\n",
        "                  tf.keras.losses.BinaryCrossentropy(\n",
        "                      from_logits=True, name='binary_crossentropy'),\n",
        "                  'accuracy'])\n",
        "\n",
        "  model.summary()\n",
        "\n",
        "  history = model.fit(\n",
        "    train_ds,\n",
        "    steps_per_epoch = STEPS_PER_EPOCH,\n",
        "    epochs=max_epochs,\n",
        "    validation_data=validate_ds,\n",
        "    callbacks=get_callbacks(name),\n",
        "    verbose=0)\n",
        "  return history"
      ],
      "execution_count": null,
      "outputs": []
    },
    {
      "cell_type": "code",
      "metadata": {
        "id": "0QiN5koacAha"
      },
      "source": [
        "#As an exercise, you can create an even larger model, and see how quickly it begins overfitting. \n",
        "#Next, let's add to this benchmark a network that has much more capacity, far more than the problem would warrant:\n",
        "\n",
        "model = tf.keras.Sequential([\n",
        "    layers.Dense(512, activation='elu', input_shape=(FEATURES,)),\n",
        "    layers.Dense(512, activation='elu'),\n",
        "    layers.Dense(512, activation='elu'),\n",
        "    layers.Dense(512, activation='elu'),\n",
        "    layers.Dense(1)\n",
        "])"
      ],
      "execution_count": null,
      "outputs": []
    },
    {
      "cell_type": "code",
      "metadata": {
        "colab": {
          "base_uri": "https://localhost:8080/"
        },
        "id": "zm6-uHLHcDsi",
        "outputId": "41b67d0b-ff2d-4a8c-a69e-2396395a7f77"
      },
      "source": [
        "#again train the model using the same data:\n",
        "size_histories['large'] = compile_and_fit(model, \"sizes/large\")"
      ],
      "execution_count": null,
      "outputs": [
        {
          "output_type": "stream",
          "text": [
            "Model: \"sequential_4\"\n",
            "_________________________________________________________________\n",
            "Layer (type)                 Output Shape              Param #   \n",
            "=================================================================\n",
            "dense_12 (Dense)             (None, 512)               9728      \n",
            "_________________________________________________________________\n",
            "dense_13 (Dense)             (None, 512)               262656    \n",
            "_________________________________________________________________\n",
            "dense_14 (Dense)             (None, 512)               262656    \n",
            "_________________________________________________________________\n",
            "dense_15 (Dense)             (None, 512)               262656    \n",
            "_________________________________________________________________\n",
            "dense_16 (Dense)             (None, 1)                 513       \n",
            "=================================================================\n",
            "Total params: 798,209\n",
            "Trainable params: 798,209\n",
            "Non-trainable params: 0\n",
            "_________________________________________________________________\n",
            "\n",
            "Epoch: 0, accuracy:0.6807,  binary_crossentropy:0.6479,  loss:0.6479,  val_accuracy:0.7620,  val_binary_crossentropy:0.5259,  val_loss:0.5259,  \n",
            "....................................................................................................\n",
            "Epoch: 100, accuracy:0.8257,  binary_crossentropy:0.3781,  loss:0.3781,  val_accuracy:0.7860,  val_binary_crossentropy:0.4761,  val_loss:0.4761,  \n",
            "....................................................................................................\n",
            "Epoch: 200, accuracy:1.0000,  binary_crossentropy:0.0028,  loss:0.0028,  val_accuracy:0.7530,  val_binary_crossentropy:1.6315,  val_loss:1.6315,  \n",
            "................."
          ],
          "name": "stdout"
        }
      ]
    },
    {
      "cell_type": "code",
      "metadata": {
        "colab": {
          "base_uri": "https://localhost:8080/",
          "height": 304
        },
        "id": "a400RJmqeCJb",
        "outputId": "44111199-ae2f-43db-b010-551cfaf54b17"
      },
      "source": [
        "#Plotting the Training and Validation Loss using Log Scale\n",
        "plotter.plot(size_histories)\n",
        "a = plt.xscale('log')\n",
        "plt.xlim([1, max(plt.xlim())])\n",
        "plt.ylim([0, 0.7])\n",
        "plt.xlabel(\"Epochs [Log Scale]\")"
      ],
      "execution_count": null,
      "outputs": [
        {
          "output_type": "execute_result",
          "data": {
            "text/plain": [
              "Text(0.5, 0, 'Epochs [Log Scale]')"
            ]
          },
          "metadata": {
            "tags": []
          },
          "execution_count": 74
        },
        {
          "output_type": "display_data",
          "data": {
            "image/png": "[encoded data removed]",
            "text/plain": [
              "<Figure size 432x288 with 1 Axes>"
            ]
          },
          "metadata": {
            "tags": [],
            "needs_background": "light"
          }
        }
      ]
    },
    {
      "cell_type": "code",
      "metadata": {
        "id": "N9XRQXkDkF4H"
      },
      "source": [
        ""
      ],
      "execution_count": null,
      "outputs": []
    }
  ]
}