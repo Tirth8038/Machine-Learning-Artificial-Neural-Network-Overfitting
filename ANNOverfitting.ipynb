{
  "nbformat": 4,
  "nbformat_minor": 0,
  "metadata": {
    "colab": {
      "name": "ANNOverfitting.ipynb",
      "provenance": [],
      "collapsed_sections": []
    },
    "kernelspec": {
      "name": "python3",
      "display_name": "Python 3"
    }
  },
  "cells": [
    {
      "cell_type": "code",
      "metadata": {
        "colab": {
          "base_uri": "https://localhost:8080/"
        },
        "id": "-3y2o24HCBin",
        "outputId": "3689cd29-a353-4435-df82-595bdfb32074"
      },
      "source": [
        "#Importing Necessary Packages\n",
        "import tensorflow as tf\n",
        "\n",
        "from tensorflow.keras import layers\n",
        "from tensorflow.keras import regularizers\n",
        "\n",
        "print(tf.__version__)"
      ],
      "execution_count": 1,
      "outputs": [
        {
          "output_type": "stream",
          "text": [
            "2.4.1\n"
          ],
          "name": "stdout"
        }
      ]
    },
    {
      "cell_type": "code",
      "metadata": {
        "colab": {
          "base_uri": "https://localhost:8080/"
        },
        "id": "PLiDxXCoEAF4",
        "outputId": "eed1a1bc-10be-460c-d93b-aaf2c18cf614"
      },
      "source": [
        "!pip install -q git+https://github.com/tensorflow/docs\n",
        "\n",
        "import tensorflow_docs as tfdocs\n",
        "import tensorflow_docs.modeling\n",
        "import tensorflow_docs.plots"
      ],
      "execution_count": 2,
      "outputs": [
        {
          "output_type": "stream",
          "text": [
            "  Building wheel for tensorflow-docs (setup.py) ... \u001b[?25l\u001b[?25hdone\n"
          ],
          "name": "stdout"
        }
      ]
    },
    {
      "cell_type": "code",
      "metadata": {
        "id": "w_qQnc7UEJh6"
      },
      "source": [
        "from  IPython import display\n",
        "from matplotlib import pyplot as plt\n",
        "\n",
        "import numpy as np\n",
        "\n",
        "import pathlib\n",
        "import shutil\n",
        "import tempfile"
      ],
      "execution_count": 3,
      "outputs": []
    },
    {
      "cell_type": "code",
      "metadata": {
        "id": "ODZBTHsTEgQJ"
      },
      "source": [
        "logdir = pathlib.Path(tempfile.mkdtemp())/\"tensorboard_logs\"\n",
        "shutil.rmtree(logdir, ignore_errors=True)"
      ],
      "execution_count": 4,
      "outputs": []
    },
    {
      "cell_type": "code",
      "metadata": {
        "id": "-Q0BWvcMI2LX"
      },
      "source": [
        "#Downloading the SUSY dataset from UCI\n",
        "data = tf.keras.utils.get_file('SUSY.csv.gz', 'http://mlphysics.ics.uci.edu/data/susy/SUSY.csv.gz')"
      ],
      "execution_count": 5,
      "outputs": []
    },
    {
      "cell_type": "code",
      "metadata": {
        "id": "9E6YLr9DXF3l"
      },
      "source": [
        "#Taking Maximum Features=18\n",
        "FEATURES = 18"
      ],
      "execution_count": 6,
      "outputs": []
    },
    {
      "cell_type": "code",
      "metadata": {
        "id": "M6Bb_7B3ab2O"
      },
      "source": [
        "#The tf.data.experimental.CsvDataset class can be used to read csv records directly from a gzip file with no intermediate decompression step.\n",
        "\n",
        "susydata = tf.data.experimental.CsvDataset(data,[float(),]*(FEATURES+1), compression_type=\"GZIP\")"
      ],
      "execution_count": 7,
      "outputs": []
    },
    {
      "cell_type": "code",
      "metadata": {
        "id": "b6j-13Efag09"
      },
      "source": [
        "#That csv reader class returns a list of scalars for each record. The following function repacks that list of scalars into a (feature_vector, label) pair.\n",
        "\n",
        "def pack_row(*row):\n",
        "  label = row[0]\n",
        "  features = tf.stack(row[1:],1)\n",
        "  return features, label"
      ],
      "execution_count": 8,
      "outputs": []
    },
    {
      "cell_type": "code",
      "metadata": {
        "id": "EmMTb7FhakU1"
      },
      "source": [
        "#So instead of repacking each row individually make a new Dataset that takes batches of 10000-examples,\n",
        "#It applies the pack_row function to each batch, and then splits the batches back up into individual records:\n",
        "\n",
        "packed_susy = susydata.batch(10000).map(pack_row).unbatch()"
      ],
      "execution_count": 9,
      "outputs": []
    },
    {
      "cell_type": "code",
      "metadata": {
        "colab": {
          "base_uri": "https://localhost:8080/",
          "height": 333
        },
        "id": "DJr-oqSRaozs",
        "outputId": "37299cb1-fc45-4d3c-87ee-9f68b32cc204"
      },
      "source": [
        "#Looking at the Packed SUSY dataset\n",
        "for features,label in packed_susy.batch(1000).take(1):\n",
        "  print(features[0])\n",
        "  plt.hist(features.numpy().flatten(), bins = 101)"
      ],
      "execution_count": 10,
      "outputs": [
        {
          "output_type": "stream",
          "text": [
            "tf.Tensor(\n",
            "[ 0.97286147  0.65385455  1.1762246   1.1571565  -1.7398732  -0.87430906\n",
            "  0.567765   -0.17500004  0.81006074 -0.25255212  1.921887    0.8896374\n",
            "  0.41077185  1.1456208   1.9326321   0.9944641   1.3678155   0.0407145 ], shape=(18,), dtype=float32)\n"
          ],
          "name": "stdout"
        },
        {
          "output_type": "display_data",
          "data": {
            "image/png": "[encoded data removed]",
            "text/plain": [
              "<Figure size 432x288 with 1 Axes>"
            ]
          },
          "metadata": {
            "tags": [],
            "needs_background": "light"
          }
        }
      ]
    },
    {
      "cell_type": "code",
      "metadata": {
        "id": "d2DlXneoas00"
      },
      "source": [
        "#To keep this tutorial relatively short use just the first 1000 samples for validation, and the next 10 000 for training:\n",
        "\n",
        "N_VALIDATION = int(1e3)\n",
        "N_TRAIN = int(1e4)\n",
        "BUFFER_SIZE = int(1e4)\n",
        "BATCH_SIZE = 500\n",
        "STEPS_PER_EPOCH = N_TRAIN//BATCH_SIZE\n"
      ],
      "execution_count": 11,
      "outputs": []
    },
    {
      "cell_type": "code",
      "metadata": {
        "id": "FOGCasJ5a4ri"
      },
      "source": [
        "validate_ds = packed_susy.take(N_VALIDATION).cache()\n",
        "train_ds = packed_susy.skip(N_VALIDATION).take(N_TRAIN).cache()\n",
        "\n"
      ],
      "execution_count": 12,
      "outputs": []
    },
    {
      "cell_type": "code",
      "metadata": {
        "colab": {
          "base_uri": "https://localhost:8080/"
        },
        "id": "vzXiRw0kbFS5",
        "outputId": "a0fd7d22-d13a-4a37-ee50-e229cabd1084"
      },
      "source": [
        "train_ds"
      ],
      "execution_count": 13,
      "outputs": [
        {
          "output_type": "execute_result",
          "data": {
            "text/plain": [
              "<CacheDataset shapes: ((18,), ()), types: (tf.float32, tf.float32)>"
            ]
          },
          "metadata": {
            "tags": []
          },
          "execution_count": 13
        }
      ]
    },
    {
      "cell_type": "code",
      "metadata": {
        "id": "WGtABwNobL9I"
      },
      "source": [
        "#These datasets return individual examples. Use the .batch method to create batches of an appropriate size for training. \n",
        "#Before batching also remember to .shuffle and .repeat the training set.\n",
        "\n",
        "validate_ds = validate_ds.batch(BATCH_SIZE)\n",
        "train_ds = train_ds.shuffle(BUFFER_SIZE).repeat().batch(BATCH_SIZE)\n"
      ],
      "execution_count": 14,
      "outputs": []
    },
    {
      "cell_type": "code",
      "metadata": {
        "id": "C1x4ofzxbQPH"
      },
      "source": [
        "#Demonstrate Overfitting\n",
        "lr_schedule = tf.keras.optimizers.schedules.InverseTimeDecay(\n",
        "  0.001,\n",
        "  decay_steps=STEPS_PER_EPOCH*1000,\n",
        "  decay_rate=1,\n",
        "  staircase=False)\n",
        "\n",
        "def get_optimizer():\n",
        "  return tf.keras.optimizers.Adam(lr_schedule)"
      ],
      "execution_count": 15,
      "outputs": []
    },
    {
      "cell_type": "code",
      "metadata": {
        "colab": {
          "base_uri": "https://localhost:8080/",
          "height": 388
        },
        "id": "YUV04ghtbcf3",
        "outputId": "2967088f-4cb9-41ed-e4e1-48ad37d30221"
      },
      "source": [
        "#Plotting the Learning Rate and Epoch\n",
        "step = np.linspace(0,100000)\n",
        "lr = lr_schedule(step)\n",
        "plt.figure(figsize = (8,6))\n",
        "plt.plot(step/STEPS_PER_EPOCH, lr)\n",
        "plt.ylim([0,max(plt.ylim())])\n",
        "plt.xlabel('Epoch')\n",
        "_ = plt.ylabel('Learning Rate')"
      ],
      "execution_count": 16,
      "outputs": [
        {
          "output_type": "display_data",
          "data": {
            "image/png": "[encoded data removed]",
            "text/plain": [
              "<Figure size 576x432 with 1 Axes>"
            ]
          },
          "metadata": {
            "tags": [],
            "needs_background": "light"
          }
        }
      ]
    },
    {
      "cell_type": "code",
      "metadata": {
        "id": "MzA-_vWAbwdm"
      },
      "source": [
        "#Use callbacks.TensorBoard to generate TensorBoard logs for the training.\n",
        "\n",
        "def get_callbacks(name):\n",
        "  return [\n",
        "    tfdocs.modeling.EpochDots(),\n",
        "    tf.keras.callbacks.EarlyStopping(monitor='val_binary_crossentropy', patience=200),\n",
        "    tf.keras.callbacks.TensorBoard(logdir/name),\n",
        "  ]"
      ],
      "execution_count": 17,
      "outputs": []
    },
    {
      "cell_type": "code",
      "metadata": {
        "id": "Gqk_kxV0b5Sz"
      },
      "source": [
        "def compile_and_fit(model, name, optimizer=None, max_epochs=10000):\n",
        "  if optimizer is None:\n",
        "    optimizer = get_optimizer()\n",
        "  model.compile(optimizer=optimizer,\n",
        "                loss=tf.keras.losses.BinaryCrossentropy(from_logits=True),\n",
        "                metrics=[\n",
        "                  tf.keras.losses.BinaryCrossentropy(\n",
        "                      from_logits=True, name='binary_crossentropy'),\n",
        "                  'accuracy'])\n",
        "\n",
        "  model.summary()\n",
        "\n",
        "  history = model.fit(\n",
        "    train_ds,\n",
        "    steps_per_epoch = STEPS_PER_EPOCH,\n",
        "    epochs=max_epochs,\n",
        "    validation_data=validate_ds,\n",
        "    callbacks=get_callbacks(name),\n",
        "    verbose=0)\n",
        "  return history"
      ],
      "execution_count": 18,
      "outputs": []
    },
    {
      "cell_type": "code",
      "metadata": {
        "id": "w-HsG1hztz_h"
      },
      "source": [
        "#Small Model using less layers to prevent overfitting on training data\n",
        "small_model = tf.keras.Sequential([\n",
        "    layers.Dense(16, activation='elu', input_shape=(FEATURES,)),\n",
        "    layers.Dense(1)\n",
        "])"
      ],
      "execution_count": 19,
      "outputs": []
    },
    {
      "cell_type": "code",
      "metadata": {
        "colab": {
          "base_uri": "https://localhost:8080/"
        },
        "id": "MLTGB_Tmt1BZ",
        "outputId": "a0d20b4a-3594-47dc-876e-aff14c34c8e0"
      },
      "source": [
        "size_histories = {}\n",
        "size_histories['Tiny'] = compile_and_fit(small_model, 'sizes/Tiny')"
      ],
      "execution_count": 20,
      "outputs": [
        {
          "output_type": "stream",
          "text": [
            "Model: \"sequential\"\n",
            "_________________________________________________________________\n",
            "Layer (type)                 Output Shape              Param #   \n",
            "=================================================================\n",
            "dense (Dense)                (None, 16)                304       \n",
            "_________________________________________________________________\n",
            "dense_1 (Dense)              (None, 1)                 17        \n",
            "=================================================================\n",
            "Total params: 321\n",
            "Trainable params: 321\n",
            "Non-trainable params: 0\n",
            "_________________________________________________________________\n",
            "WARNING:tensorflow:Callback method `on_train_batch_end` is slow compared to the batch time (batch time: 0.0026s vs `on_train_batch_end` time: 0.0081s). Check your callbacks.\n",
            "\n",
            "Epoch: 0, accuracy:0.5681,  binary_crossentropy:0.7905,  loss:0.7905,  val_accuracy:0.5730,  val_binary_crossentropy:0.7237,  val_loss:0.7237,  \n",
            "....................................................................................................\n",
            "Epoch: 100, accuracy:0.7877,  binary_crossentropy:0.4438,  loss:0.4438,  val_accuracy:0.7880,  val_binary_crossentropy:0.4347,  val_loss:0.4347,  \n",
            "....................................................................................................\n",
            "Epoch: 200, accuracy:0.7873,  binary_crossentropy:0.4364,  loss:0.4364,  val_accuracy:0.7930,  val_binary_crossentropy:0.4303,  val_loss:0.4303,  \n",
            "....................................................................................................\n",
            "Epoch: 300, accuracy:0.7923,  binary_crossentropy:0.4320,  loss:0.4320,  val_accuracy:0.7880,  val_binary_crossentropy:0.4306,  val_loss:0.4306,  \n",
            "....................................................................................................\n",
            "Epoch: 400, accuracy:0.7942,  binary_crossentropy:0.4298,  loss:0.4298,  val_accuracy:0.7930,  val_binary_crossentropy:0.4305,  val_loss:0.4305,  \n",
            "........................."
          ],
          "name": "stdout"
        }
      ]
    },
    {
      "cell_type": "code",
      "metadata": {
        "id": "bmZi2T4at1LZ"
      },
      "source": [
        ""
      ],
      "execution_count": 20,
      "outputs": []
    },
    {
      "cell_type": "code",
      "metadata": {
        "id": "0QiN5koacAha"
      },
      "source": [
        "#As an exercise, you can create an even larger model, and see how quickly it begins overfitting. \n",
        "#Next, let's add to this benchmark a network that has much more capacity, far more than the problem would warrant:\n",
        "\n",
        "model = tf.keras.Sequential([\n",
        "    layers.Dense(512, activation='elu', input_shape=(FEATURES,)),\n",
        "    layers.Dense(512, activation='elu'),\n",
        "    layers.Dense(512, activation='elu'),\n",
        "    layers.Dense(512, activation='elu'),\n",
        "    layers.Dense(1)\n",
        "])"
      ],
      "execution_count": 21,
      "outputs": []
    },
    {
      "cell_type": "code",
      "metadata": {
        "colab": {
          "base_uri": "https://localhost:8080/"
        },
        "id": "zm6-uHLHcDsi",
        "outputId": "d47cd108-f613-49f3-d74b-3fab8e1d4390"
      },
      "source": [
        "#again train the model using the same data:\n",
        "size_histories['large'] = compile_and_fit(model, \"sizes/large\")"
      ],
      "execution_count": 22,
      "outputs": [
        {
          "output_type": "stream",
          "text": [
            "Model: \"sequential_1\"\n",
            "_________________________________________________________________\n",
            "Layer (type)                 Output Shape              Param #   \n",
            "=================================================================\n",
            "dense_2 (Dense)              (None, 512)               9728      \n",
            "_________________________________________________________________\n",
            "dense_3 (Dense)              (None, 512)               262656    \n",
            "_________________________________________________________________\n",
            "dense_4 (Dense)              (None, 512)               262656    \n",
            "_________________________________________________________________\n",
            "dense_5 (Dense)              (None, 512)               262656    \n",
            "_________________________________________________________________\n",
            "dense_6 (Dense)              (None, 1)                 513       \n",
            "=================================================================\n",
            "Total params: 798,209\n",
            "Trainable params: 798,209\n",
            "Non-trainable params: 0\n",
            "_________________________________________________________________\n",
            "\n",
            "Epoch: 0, accuracy:0.6712,  binary_crossentropy:0.6649,  loss:0.6649,  val_accuracy:0.7800,  val_binary_crossentropy:0.4759,  val_loss:0.4759,  \n",
            "....................................................................................................\n",
            "Epoch: 100, accuracy:0.8215,  binary_crossentropy:0.3772,  loss:0.3772,  val_accuracy:0.7840,  val_binary_crossentropy:0.4748,  val_loss:0.4748,  \n",
            "....................................................................................................\n",
            "Epoch: 200, accuracy:1.0000,  binary_crossentropy:0.0032,  loss:0.0032,  val_accuracy:0.7460,  val_binary_crossentropy:1.6043,  val_loss:1.6043,  \n",
            "............................................"
          ],
          "name": "stdout"
        }
      ]
    },
    {
      "cell_type": "code",
      "metadata": {
        "colab": {
          "base_uri": "https://localhost:8080/",
          "height": 304
        },
        "id": "a400RJmqeCJb",
        "outputId": "e937c191-724c-4ac2-aa3f-5addbdd31a1b"
      },
      "source": [
        "#Plotting the Training and Validation Loss using Log Scale\n",
        "plotter = tfdocs.plots.HistoryPlotter(metric = 'binary_crossentropy', smoothing_std=10)\n",
        "plotter.plot(size_histories)\n",
        "a = plt.xscale('log')\n",
        "plt.xlim([1, max(plt.xlim())])\n",
        "plt.ylim([0, 1])\n",
        "plt.xlabel(\"Epochs [Log Scale]\")"
      ],
      "execution_count": 27,
      "outputs": [
        {
          "output_type": "execute_result",
          "data": {
            "text/plain": [
              "Text(0.5, 0, 'Epochs [Log Scale]')"
            ]
          },
          "metadata": {
            "tags": []
          },
          "execution_count": 27
        },
        {
          "output_type": "display_data",
          "data": {
            "image/png": "[encoded data removed]",
            "text/plain": [
              "<Figure size 432x288 with 1 Axes>"
            ]
          },
          "metadata": {
            "tags": [],
            "needs_background": "light"
          }
        }
      ]
    },
    {
      "cell_type": "code",
      "metadata": {
        "id": "N9XRQXkDkF4H"
      },
      "source": [
        ""
      ],
      "execution_count": null,
      "outputs": []
    }
  ]
}
